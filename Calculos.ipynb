{
 "cells": [
  {
   "cell_type": "markdown",
   "metadata": {},
   "source": [
    "## Programa que permite hacer los cálculos de la línea bifilar"
   ]
  },
  {
   "cell_type": "code",
   "execution_count": 47,
   "metadata": {},
   "outputs": [],
   "source": [
    "import math\n",
    "import numpy as np\n",
    "import pandas as pd"
   ]
  },
  {
   "cell_type": "code",
   "execution_count": 48,
   "metadata": {},
   "outputs": [],
   "source": [
    "#Constantes\n",
    "\n",
    "m_0 = math.pi*4e-7\n",
    "m_r = 1\n",
    "e_0 = 8.8542e-12\n",
    "e_r = 2.26\n",
    "m = m_r * m_0\n",
    "e = e_0 * e_r\n",
    "\n",
    "#Material\n",
    "sigma = 3.82e7\n",
    "radio = 4e-3\n",
    "distancia = 2e-2\n",
    "\n",
    "tangente = 0.2e-3\n",
    "\n",
    "#Frecuencias\n",
    "f = [1e3, 10e3, 1e6]\n",
    "w = [frec*2*math.pi for frec in f]\n"
   ]
  },
  {
   "cell_type": "code",
   "execution_count": 49,
   "metadata": {},
   "outputs": [],
   "source": [
    "#Longitud\n",
    "l = []\n",
    "l_c = []\n",
    "frecuencias = []\n",
    "sigmas_d_c = []\n",
    "sigmas_d = []\n",
    "\n",
    "for i in range(len(f)):\n",
    "    lon = math.sqrt(2/(w[i]*m*sigma))\n",
    "    lon_c = np.format_float_scientific(lon, precision = 1, exp_digits=2)\n",
    "    l.append(lon)\n",
    "    l_c.append(lon_c)\n",
    "    \n",
    "    sigma_d = tangente*w[i]*e\n",
    "    sigmas_d.append(sigma_d)\n",
    "    sigmas_d_c.append(np.format_float_scientific(sigma_d, precision = 4, exp_digits=2))\n",
    "    \n",
    "    \n",
    "    if lon > radio:\n",
    "        frecuencias.append('Bajas frecuencias')\n",
    "    else:\n",
    "        frecuencias.append('Altas frecuencias')"
   ]
  },
  {
   "cell_type": "code",
   "execution_count": 50,
   "metadata": {},
   "outputs": [],
   "source": [
    "resultado1 = pd.DataFrame(columns=['f', 'radio a', 'l', 'Expresión a usar'])"
   ]
  },
  {
   "cell_type": "code",
   "execution_count": 51,
   "metadata": {},
   "outputs": [],
   "source": [
    "resultado1['f'] = f\n",
    "resultado1['radio a'] = [radio, radio, radio]\n",
    "resultado1['l'] = l_c \n",
    "resultado1['Expresión a usar'] = frecuencias"
   ]
  },
  {
   "cell_type": "code",
   "execution_count": 52,
   "metadata": {},
   "outputs": [],
   "source": [
    "resultado2 = pd.DataFrame(columns=['f', 'sigma_aprox'])"
   ]
  },
  {
   "cell_type": "code",
   "execution_count": 53,
   "metadata": {},
   "outputs": [],
   "source": [
    "resultado2['f'] = f\n",
    "resultado2['sigma_aprox'] = sigmas_d"
   ]
  },
  {
   "cell_type": "code",
   "execution_count": 54,
   "metadata": {},
   "outputs": [],
   "source": [
    "L = []\n",
    "R = []\n",
    "C = []\n",
    "G = []\n",
    "for i in range(len(f)):\n",
    "    \n",
    "    if frecuencias[i] == \"Bajas frecuencias\":\n",
    "        \n",
    "        #Bajas frecuencias\n",
    "        ll = m/(4*math.pi)+m/math.pi*math.log(distancia/radio)\n",
    "        r = 2/(sigma*math.pi*radio**2)\n",
    "        c = math.pi*e/math.log(distancia/radio)\n",
    "        g = math.pi*sigmas_d[i]/math.log(distancia/radio)\n",
    "\n",
    "        L.append(np.format_float_scientific(ll, precision = 4, exp_digits=2))\n",
    "        R.append(np.format_float_scientific(r, precision = 4, exp_digits=2))\n",
    "        C.append(np.format_float_scientific(c, precision = 4, exp_digits=2))\n",
    "        G.append(np.format_float_scientific(g, precision = 4, exp_digits=2))\n",
    "        \n",
    "    else:\n",
    "        #Altas frecuencias\n",
    "        ll = m/(math.pi)*math.log(distancia/radio)\n",
    "        r = 1/(math.pi*radio*l[i]*sigma)\n",
    "        c = math.pi*e/math.log(distancia/radio)\n",
    "        g = math.pi*sigmas_d[i]/math.log(distancia/radio)\n",
    "\n",
    "        L.append(np.format_float_scientific(ll, precision = 4, exp_digits=2))\n",
    "        R.append(np.format_float_scientific(r, precision = 4, exp_digits=2))\n",
    "        C.append(np.format_float_scientific(c, precision = 4, exp_digits=2))\n",
    "        G.append(np.format_float_scientific(g, precision = 4, exp_digits=2))\n",
    "    \n",
    "        \n",
    "    "
   ]
  },
  {
   "cell_type": "code",
   "execution_count": 55,
   "metadata": {},
   "outputs": [],
   "source": [
    "resultado3 = pd.DataFrame(columns=['f', 'L', 'C', 'R', 'G'])"
   ]
  },
  {
   "cell_type": "code",
   "execution_count": 56,
   "metadata": {},
   "outputs": [],
   "source": [
    "resultado3['f'] = f\n",
    "resultado3['L'] = L\n",
    "resultado3['C'] = C\n",
    "resultado3['R'] = R\n",
    "resultado3['G'] = G"
   ]
  },
  {
   "cell_type": "code",
   "execution_count": 57,
   "metadata": {},
   "outputs": [
    {
     "data": {
      "text/html": [
       "<div>\n",
       "<style scoped>\n",
       "    .dataframe tbody tr th:only-of-type {\n",
       "        vertical-align: middle;\n",
       "    }\n",
       "\n",
       "    .dataframe tbody tr th {\n",
       "        vertical-align: top;\n",
       "    }\n",
       "\n",
       "    .dataframe thead th {\n",
       "        text-align: right;\n",
       "    }\n",
       "</style>\n",
       "<table border=\"1\" class=\"dataframe\">\n",
       "  <thead>\n",
       "    <tr style=\"text-align: right;\">\n",
       "      <th></th>\n",
       "      <th>f</th>\n",
       "      <th>radio a</th>\n",
       "      <th>l</th>\n",
       "      <th>Expresión a usar</th>\n",
       "    </tr>\n",
       "  </thead>\n",
       "  <tbody>\n",
       "    <tr>\n",
       "      <th>0</th>\n",
       "      <td>1000.0</td>\n",
       "      <td>0.004</td>\n",
       "      <td>2.6e-03</td>\n",
       "      <td>Altas frecuencias</td>\n",
       "    </tr>\n",
       "    <tr>\n",
       "      <th>1</th>\n",
       "      <td>10000.0</td>\n",
       "      <td>0.004</td>\n",
       "      <td>8.1e-04</td>\n",
       "      <td>Altas frecuencias</td>\n",
       "    </tr>\n",
       "    <tr>\n",
       "      <th>2</th>\n",
       "      <td>1000000.0</td>\n",
       "      <td>0.004</td>\n",
       "      <td>8.1e-05</td>\n",
       "      <td>Altas frecuencias</td>\n",
       "    </tr>\n",
       "  </tbody>\n",
       "</table>\n",
       "</div>"
      ],
      "text/plain": [
       "           f  radio a        l   Expresión a usar\n",
       "0     1000.0    0.004  2.6e-03  Altas frecuencias\n",
       "1    10000.0    0.004  8.1e-04  Altas frecuencias\n",
       "2  1000000.0    0.004  8.1e-05  Altas frecuencias"
      ]
     },
     "execution_count": 57,
     "metadata": {},
     "output_type": "execute_result"
    }
   ],
   "source": [
    "resultado1"
   ]
  },
  {
   "cell_type": "code",
   "execution_count": 58,
   "metadata": {},
   "outputs": [
    {
     "data": {
      "text/html": [
       "<div>\n",
       "<style scoped>\n",
       "    .dataframe tbody tr th:only-of-type {\n",
       "        vertical-align: middle;\n",
       "    }\n",
       "\n",
       "    .dataframe tbody tr th {\n",
       "        vertical-align: top;\n",
       "    }\n",
       "\n",
       "    .dataframe thead th {\n",
       "        text-align: right;\n",
       "    }\n",
       "</style>\n",
       "<table border=\"1\" class=\"dataframe\">\n",
       "  <thead>\n",
       "    <tr style=\"text-align: right;\">\n",
       "      <th></th>\n",
       "      <th>f</th>\n",
       "      <th>sigma_aprox</th>\n",
       "    </tr>\n",
       "  </thead>\n",
       "  <tbody>\n",
       "    <tr>\n",
       "      <th>0</th>\n",
       "      <td>1000.0</td>\n",
       "      <td>2.514593e-11</td>\n",
       "    </tr>\n",
       "    <tr>\n",
       "      <th>1</th>\n",
       "      <td>10000.0</td>\n",
       "      <td>2.514593e-10</td>\n",
       "    </tr>\n",
       "    <tr>\n",
       "      <th>2</th>\n",
       "      <td>1000000.0</td>\n",
       "      <td>2.514593e-08</td>\n",
       "    </tr>\n",
       "  </tbody>\n",
       "</table>\n",
       "</div>"
      ],
      "text/plain": [
       "           f   sigma_aprox\n",
       "0     1000.0  2.514593e-11\n",
       "1    10000.0  2.514593e-10\n",
       "2  1000000.0  2.514593e-08"
      ]
     },
     "execution_count": 58,
     "metadata": {},
     "output_type": "execute_result"
    }
   ],
   "source": [
    "resultado2"
   ]
  },
  {
   "cell_type": "code",
   "execution_count": 59,
   "metadata": {},
   "outputs": [
    {
     "data": {
      "text/html": [
       "<div>\n",
       "<style scoped>\n",
       "    .dataframe tbody tr th:only-of-type {\n",
       "        vertical-align: middle;\n",
       "    }\n",
       "\n",
       "    .dataframe tbody tr th {\n",
       "        vertical-align: top;\n",
       "    }\n",
       "\n",
       "    .dataframe thead th {\n",
       "        text-align: right;\n",
       "    }\n",
       "</style>\n",
       "<table border=\"1\" class=\"dataframe\">\n",
       "  <thead>\n",
       "    <tr style=\"text-align: right;\">\n",
       "      <th></th>\n",
       "      <th>f</th>\n",
       "      <th>L</th>\n",
       "      <th>C</th>\n",
       "      <th>R</th>\n",
       "      <th>G</th>\n",
       "    </tr>\n",
       "  </thead>\n",
       "  <tbody>\n",
       "    <tr>\n",
       "      <th>0</th>\n",
       "      <td>1000.0</td>\n",
       "      <td>6.4378e-07</td>\n",
       "      <td>3.9060e-11</td>\n",
       "      <td>8.0898e-04</td>\n",
       "      <td>4.9084e-11</td>\n",
       "    </tr>\n",
       "    <tr>\n",
       "      <th>1</th>\n",
       "      <td>10000.0</td>\n",
       "      <td>6.4378e-07</td>\n",
       "      <td>3.9060e-11</td>\n",
       "      <td>2.5582e-03</td>\n",
       "      <td>4.9084e-10</td>\n",
       "    </tr>\n",
       "    <tr>\n",
       "      <th>2</th>\n",
       "      <td>1000000.0</td>\n",
       "      <td>6.4378e-07</td>\n",
       "      <td>3.9060e-11</td>\n",
       "      <td>2.5582e-02</td>\n",
       "      <td>4.9084e-08</td>\n",
       "    </tr>\n",
       "  </tbody>\n",
       "</table>\n",
       "</div>"
      ],
      "text/plain": [
       "           f           L           C           R           G\n",
       "0     1000.0  6.4378e-07  3.9060e-11  8.0898e-04  4.9084e-11\n",
       "1    10000.0  6.4378e-07  3.9060e-11  2.5582e-03  4.9084e-10\n",
       "2  1000000.0  6.4378e-07  3.9060e-11  2.5582e-02  4.9084e-08"
      ]
     },
     "execution_count": 59,
     "metadata": {},
     "output_type": "execute_result"
    }
   ],
   "source": [
    "resultado3"
   ]
  }
 ],
 "metadata": {
  "kernelspec": {
   "display_name": "Python 3",
   "language": "python",
   "name": "python3"
  },
  "language_info": {
   "codemirror_mode": {
    "name": "ipython",
    "version": 3
   },
   "file_extension": ".py",
   "mimetype": "text/x-python",
   "name": "python",
   "nbconvert_exporter": "python",
   "pygments_lexer": "ipython3",
   "version": "3.8.3"
  }
 },
 "nbformat": 4,
 "nbformat_minor": 4
}
